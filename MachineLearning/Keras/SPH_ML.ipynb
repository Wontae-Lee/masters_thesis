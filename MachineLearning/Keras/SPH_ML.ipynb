{
 "cells": [
  {
   "cell_type": "code",
   "execution_count": 1,
   "id": "bd3b0e29",
   "metadata": {
    "ExecuteTime": {
     "end_time": "2022-03-02T15:12:56.368967Z",
     "start_time": "2022-03-02T15:12:50.603550Z"
    }
   },
   "outputs": [],
   "source": [
    "import pandas as pd\n",
    "import numpy as np\n",
    "import tensorflow as tf\n",
    "import os\n",
    "import matplotlib.pyplot as plt\n",
    "from tensorflow import keras\n",
    "from sklearn.model_selection import train_test_split\n",
    "from sklearn.preprocessing import StandardScaler"
   ]
  },
  {
   "cell_type": "code",
   "execution_count": 2,
   "id": "506452bb",
   "metadata": {
    "ExecuteTime": {
     "end_time": "2022-03-02T15:12:56.556847Z",
     "start_time": "2022-03-02T15:12:56.370969Z"
    }
   },
   "outputs": [],
   "source": [
    "npInputDataset = np.load(f\"/Users/maxan/Documents/Master'sThesis/DATA/npInputDataset.npy\")\n",
    "npXTargetDataset= np.load(f\"/Users/maxan/Documents/Master'sThesis/DATA/npXTargetDataset.npy\")\n",
    "npYTargetDataset= np.load(f\"/Users/maxan/Documents/Master'sThesis/DATA/npYTargetDataset.npy\")\n",
    "npUTargetDataset= np.load(f\"/Users/maxan/Documents/Master'sThesis/DATA/npUTargetDataset.npy\")\n",
    "npVTargetDataset= np.load(f\"/Users/maxan/Documents/Master'sThesis/DATA/npVTargetDataset.npy\")\n",
    "npAccXTargetDataset = np.load(f\"/Users/maxan/Documents/Master'sThesis/DATA/npXTargetDataset.npy\")\n",
    "npAccYTargetDataset= np.load(f\"/Users/maxan/Documents/Master'sThesis/DATA/npAccYTargetDataset.npy\")\n",
    "npRhoTargetDataset = np.load(f\"/Users/maxan/Documents/Master'sThesis/DATA/npRhoTargetDataset.npy\")\n",
    "npPTargetDataset = np.load(f\"/Users/maxan/Documents/Master'sThesis/DATA/npPTargetDataset.npy\")\n",
    "npCollidingTotal = np.load(f\"/Users/maxan/Documents/Master'sThesis/DATA/npCollidingTotal.npy\")"
   ]
  },
  {
   "cell_type": "code",
   "execution_count": 3,
   "id": "3a7fb5db",
   "metadata": {
    "ExecuteTime": {
     "end_time": "2022-03-02T15:12:56.572472Z",
     "start_time": "2022-03-02T15:12:56.558848Z"
    }
   },
   "outputs": [],
   "source": [
    "npXTargetDataset = np.expand_dims(npXTargetDataset, axis=-1)\n",
    "npYTargetDataset= np.expand_dims(npYTargetDataset, axis=-1)\n",
    "npUTargetDataset= np.expand_dims(npUTargetDataset, axis=-1)\n",
    "npVTargetDataset= np.expand_dims(npVTargetDataset, axis=-1)\n",
    "npAccXTargetDataset = np.expand_dims(npAccXTargetDataset, axis=-1)\n",
    "npAccYTargetDataset= np.expand_dims(npAccYTargetDataset, axis=-1)\n",
    "npRhoTargetDataset =np.expand_dims(npRhoTargetDataset, axis=-1)\n",
    "npPTargetDataset = np.expand_dims(npPTargetDataset, axis=-1)\n",
    "npCollidingTotal = np.expand_dims(npCollidingTotal,axis=-1)"
   ]
  },
  {
   "cell_type": "code",
   "execution_count": 4,
   "id": "3400eb39",
   "metadata": {
    "ExecuteTime": {
     "end_time": "2022-03-02T15:12:56.588376Z",
     "start_time": "2022-03-02T15:12:56.574473Z"
    }
   },
   "outputs": [
    {
     "data": {
      "text/plain": [
       "<mtrand.RandomState at 0x1d3a34feb80>"
      ]
     },
     "execution_count": 4,
     "metadata": {},
     "output_type": "execute_result"
    }
   ],
   "source": [
    "np.random.RandomState(42)"
   ]
  },
  {
   "cell_type": "code",
   "execution_count": 5,
   "id": "27e58e75",
   "metadata": {
    "ExecuteTime": {
     "end_time": "2022-03-02T15:12:56.603122Z",
     "start_time": "2022-03-02T15:12:56.590378Z"
    }
   },
   "outputs": [],
   "source": [
    "# The number of data\n",
    "NData = 100\n",
    "\n",
    "# The number of particles\n",
    "NParticles = 100\n",
    "\n",
    "# The number of TimeSteps\n",
    "NTimeSteps = 200\n",
    "\n",
    "# The number of parameters\n",
    "NParameters = 4\n",
    "\n",
    "# The number of Targets\n",
    "NTargets = 8"
   ]
  },
  {
   "cell_type": "markdown",
   "id": "13b0ed5a",
   "metadata": {},
   "source": [
    "# Input Dataset"
   ]
  },
  {
   "cell_type": "code",
   "execution_count": 6,
   "id": "402b64c7",
   "metadata": {
    "ExecuteTime": {
     "end_time": "2022-03-02T15:12:56.976421Z",
     "start_time": "2022-03-02T15:12:56.605122Z"
    }
   },
   "outputs": [],
   "source": [
    "# StandardScalar\n",
    "from sklearn.preprocessing import StandardScaler\n",
    "\n",
    "scaler = StandardScaler()\n",
    "\n",
    "scaler = StandardScaler()\n",
    "InputDataset= scaler.fit_transform(npInputDataset.reshape(-1,4))\n",
    "InputDataset =InputDataset[:,:].reshape(NData,NTimeSteps,NParticles,NParameters)\n"
   ]
  },
  {
   "cell_type": "code",
   "execution_count": 7,
   "id": "fedfbca5",
   "metadata": {
    "ExecuteTime": {
     "end_time": "2022-03-02T15:12:56.992424Z",
     "start_time": "2022-03-02T15:12:56.978434Z"
    }
   },
   "outputs": [],
   "source": [
    "TargetName = [\"X\",\"Y\",\"U\",\"V\",\"AccX\",\"AccY\",\"Rho\",\"P\"]"
   ]
  },
  {
   "cell_type": "code",
   "execution_count": 8,
   "id": "1d53ac0e",
   "metadata": {
    "ExecuteTime": {
     "end_time": "2022-03-02T15:12:57.008439Z",
     "start_time": "2022-03-02T15:12:56.994444Z"
    }
   },
   "outputs": [
    {
     "data": {
      "text/plain": [
       "(100, 200, 100, 4)"
      ]
     },
     "execution_count": 8,
     "metadata": {},
     "output_type": "execute_result"
    }
   ],
   "source": [
    "npInputDataset.shape"
   ]
  },
  {
   "cell_type": "code",
   "execution_count": 64,
   "id": "eb44b538",
   "metadata": {
    "ExecuteTime": {
     "end_time": "2022-03-02T15:28:20.819603Z",
     "start_time": "2022-03-02T15:28:20.741351Z"
    }
   },
   "outputs": [
    {
     "name": "stdout",
     "output_type": "stream",
     "text": [
      "Model: \"sequential_17\"\n",
      "_________________________________________________________________\n",
      "Layer (type)                 Output Shape              Param #   \n",
      "=================================================================\n",
      "conv2d_27 (Conv2D)           (None, 200, 100, 1)       37        \n",
      "_________________________________________________________________\n",
      "flatten_17 (Flatten)         (None, 20000)             0         \n",
      "_________________________________________________________________\n",
      "dense_34 (Dense)             (None, 200)               4000200   \n",
      "_________________________________________________________________\n",
      "dropout_17 (Dropout)         (None, 200)               0         \n",
      "_________________________________________________________________\n",
      "dense_35 (Dense)             (None, 20000)             4020000   \n",
      "=================================================================\n",
      "Total params: 8,020,237\n",
      "Trainable params: 8,020,237\n",
      "Non-trainable params: 0\n",
      "_________________________________________________________________\n"
     ]
    }
   ],
   "source": [
    "model1 = keras.Sequential()\n",
    "model1.add(keras.layers.Conv2D(filters = 1, kernel_size=3,padding ='same', activation='relu', input_shape = (200,100,4)))\n",
    "model1.add(keras.layers.Flatten())\n",
    "model1.add(keras.layers.Dense(200))\n",
    "model1.add(keras.layers.Dropout(0.4))\n",
    "model1.add(keras.layers.Dense(20000))\n",
    "model1.summary()"
   ]
  },
  {
   "cell_type": "code",
   "execution_count": 65,
   "id": "c718292e",
   "metadata": {
    "ExecuteTime": {
     "end_time": "2022-03-02T15:28:23.920481Z",
     "start_time": "2022-03-02T15:28:23.916489Z"
    }
   },
   "outputs": [],
   "source": [
    "Input=npInputDataset\n",
    "target=npXTargetDataset.reshape(-1,20000)"
   ]
  },
  {
   "cell_type": "code",
   "execution_count": 66,
   "id": "aed91a60",
   "metadata": {
    "ExecuteTime": {
     "end_time": "2022-03-02T15:28:40.068036Z",
     "start_time": "2022-03-02T15:28:24.289262Z"
    }
   },
   "outputs": [
    {
     "name": "stdout",
     "output_type": "stream",
     "text": [
      "Epoch 1/3000\n",
      "2/2 [==============================] - 1s 205ms/step - loss: 0.0023 - MSE: 0.0023 - val_loss: 0.0024 - val_MSE: 0.0024\n",
      "Epoch 2/3000\n",
      "2/2 [==============================] - 0s 108ms/step - loss: 0.0023 - MSE: 0.0023 - val_loss: 0.0024 - val_MSE: 0.0024\n",
      "Epoch 3/3000\n",
      "2/2 [==============================] - 0s 109ms/step - loss: 0.0023 - MSE: 0.0023 - val_loss: 0.0024 - val_MSE: 0.0024\n",
      "Epoch 4/3000\n",
      "2/2 [==============================] - 0s 118ms/step - loss: 0.0023 - MSE: 0.0023 - val_loss: 0.0024 - val_MSE: 0.0024\n",
      "Epoch 5/3000\n",
      "2/2 [==============================] - 0s 102ms/step - loss: 0.0023 - MSE: 0.0023 - val_loss: 0.0024 - val_MSE: 0.0024\n",
      "Epoch 6/3000\n",
      "2/2 [==============================] - 0s 107ms/step - loss: 0.0023 - MSE: 0.0023 - val_loss: 0.0024 - val_MSE: 0.0024\n",
      "Epoch 7/3000\n",
      "2/2 [==============================] - 0s 103ms/step - loss: 0.0023 - MSE: 0.0023 - val_loss: 0.0024 - val_MSE: 0.0024\n",
      "Epoch 8/3000\n",
      "2/2 [==============================] - 0s 116ms/step - loss: 0.0022 - MSE: 0.0022 - val_loss: 0.0023 - val_MSE: 0.0023\n",
      "Epoch 9/3000\n",
      "2/2 [==============================] - 0s 111ms/step - loss: 0.0022 - MSE: 0.0022 - val_loss: 0.0023 - val_MSE: 0.0023\n",
      "Epoch 10/3000\n",
      "2/2 [==============================] - 0s 102ms/step - loss: 0.0022 - MSE: 0.0022 - val_loss: 0.0023 - val_MSE: 0.0023\n",
      "Epoch 11/3000\n",
      "2/2 [==============================] - 0s 106ms/step - loss: 0.0022 - MSE: 0.0022 - val_loss: 0.0023 - val_MSE: 0.0023\n",
      "Epoch 12/3000\n",
      "2/2 [==============================] - 0s 120ms/step - loss: 0.0022 - MSE: 0.0022 - val_loss: 0.0023 - val_MSE: 0.0023\n",
      "Epoch 13/3000\n",
      "2/2 [==============================] - 0s 122ms/step - loss: 0.0022 - MSE: 0.0022 - val_loss: 0.0023 - val_MSE: 0.0023\n",
      "Epoch 14/3000\n",
      "2/2 [==============================] - 0s 106ms/step - loss: 0.0022 - MSE: 0.0022 - val_loss: 0.0022 - val_MSE: 0.0022\n",
      "Epoch 15/3000\n",
      "2/2 [==============================] - 0s 101ms/step - loss: 0.0022 - MSE: 0.0022 - val_loss: 0.0022 - val_MSE: 0.0022\n",
      "Epoch 16/3000\n",
      "2/2 [==============================] - 0s 106ms/step - loss: 0.0021 - MSE: 0.0021 - val_loss: 0.0022 - val_MSE: 0.0022\n",
      "Epoch 17/3000\n",
      "2/2 [==============================] - 0s 119ms/step - loss: 0.0021 - MSE: 0.0021 - val_loss: 0.0022 - val_MSE: 0.0022\n",
      "Epoch 18/3000\n",
      "2/2 [==============================] - 0s 118ms/step - loss: 0.0021 - MSE: 0.0021 - val_loss: 0.0021 - val_MSE: 0.0021\n",
      "Epoch 19/3000\n",
      "2/2 [==============================] - 0s 99ms/step - loss: 0.0021 - MSE: 0.0021 - val_loss: 0.0021 - val_MSE: 0.0021\n",
      "Epoch 20/3000\n",
      "2/2 [==============================] - 0s 106ms/step - loss: 0.0020 - MSE: 0.0020 - val_loss: 0.0021 - val_MSE: 0.0021\n",
      "Epoch 21/3000\n",
      "2/2 [==============================] - 0s 108ms/step - loss: 0.0020 - MSE: 0.0020 - val_loss: 0.0020 - val_MSE: 0.0020\n",
      "Epoch 22/3000\n",
      "2/2 [==============================] - 0s 117ms/step - loss: 0.0020 - MSE: 0.0020 - val_loss: 0.0020 - val_MSE: 0.0020\n",
      "Epoch 23/3000\n",
      "2/2 [==============================] - 0s 122ms/step - loss: 0.0019 - MSE: 0.0019 - val_loss: 0.0019 - val_MSE: 0.0019\n",
      "Epoch 24/3000\n",
      "2/2 [==============================] - 0s 99ms/step - loss: 0.0019 - MSE: 0.0019 - val_loss: 0.0019 - val_MSE: 0.0019\n",
      "Epoch 25/3000\n",
      "2/2 [==============================] - 0s 108ms/step - loss: 0.0019 - MSE: 0.0019 - val_loss: 0.0018 - val_MSE: 0.0018\n",
      "Epoch 26/3000\n",
      "2/2 [==============================] - 0s 107ms/step - loss: 0.0018 - MSE: 0.0018 - val_loss: 0.0017 - val_MSE: 0.0017\n",
      "Epoch 27/3000\n",
      "2/2 [==============================] - 0s 121ms/step - loss: 0.0018 - MSE: 0.0018 - val_loss: 0.0016 - val_MSE: 0.0016\n",
      "Epoch 28/3000\n",
      "2/2 [==============================] - 0s 119ms/step - loss: 0.0017 - MSE: 0.0017 - val_loss: 0.0015 - val_MSE: 0.0015\n",
      "Epoch 29/3000\n",
      "2/2 [==============================] - 0s 99ms/step - loss: 0.0016 - MSE: 0.0016 - val_loss: 0.0015 - val_MSE: 0.0015\n",
      "Epoch 30/3000\n",
      "2/2 [==============================] - 0s 122ms/step - loss: 0.0016 - MSE: 0.0016 - val_loss: 0.0014 - val_MSE: 0.0014\n",
      "Epoch 31/3000\n",
      "2/2 [==============================] - 0s 116ms/step - loss: 0.0015 - MSE: 0.0015 - val_loss: 0.0013 - val_MSE: 0.0013\n",
      "Epoch 32/3000\n",
      "2/2 [==============================] - 0s 123ms/step - loss: 0.0014 - MSE: 0.0014 - val_loss: 0.0012 - val_MSE: 0.0012\n",
      "Epoch 33/3000\n",
      "2/2 [==============================] - 0s 100ms/step - loss: 0.0014 - MSE: 0.0014 - val_loss: 0.0011 - val_MSE: 0.0011\n",
      "Epoch 34/3000\n",
      "2/2 [==============================] - 0s 111ms/step - loss: 0.0013 - MSE: 0.0013 - val_loss: 9.9560e-04 - val_MSE: 9.9560e-04\n",
      "Epoch 35/3000\n",
      "2/2 [==============================] - 0s 107ms/step - loss: 0.0012 - MSE: 0.0012 - val_loss: 9.1999e-04 - val_MSE: 9.1999e-04\n",
      "Epoch 36/3000\n",
      "2/2 [==============================] - 0s 109ms/step - loss: 0.0012 - MSE: 0.0012 - val_loss: 8.5140e-04 - val_MSE: 8.5140e-04\n",
      "Epoch 37/3000\n",
      "2/2 [==============================] - 0s 117ms/step - loss: 0.0011 - MSE: 0.0011 - val_loss: 7.8613e-04 - val_MSE: 7.8613e-04\n",
      "Epoch 38/3000\n",
      "2/2 [==============================] - 0s 111ms/step - loss: 0.0011 - MSE: 0.0011 - val_loss: 7.2423e-04 - val_MSE: 7.2423e-04\n",
      "Epoch 39/3000\n",
      "2/2 [==============================] - 0s 115ms/step - loss: 0.0010 - MSE: 0.0010 - val_loss: 6.7040e-04 - val_MSE: 6.7040e-04\n",
      "Epoch 40/3000\n",
      "2/2 [==============================] - 0s 135ms/step - loss: 9.8227e-04 - MSE: 9.8227e-04 - val_loss: 6.1885e-04 - val_MSE: 6.1885e-04\n",
      "Epoch 41/3000\n",
      "2/2 [==============================] - 0s 131ms/step - loss: 9.3622e-04 - MSE: 9.3622e-04 - val_loss: 5.7720e-04 - val_MSE: 5.7720e-04\n",
      "Epoch 42/3000\n",
      "2/2 [==============================] - 0s 134ms/step - loss: 8.8997e-04 - MSE: 8.8997e-04 - val_loss: 5.3970e-04 - val_MSE: 5.3970e-04\n",
      "Epoch 43/3000\n",
      "2/2 [==============================] - 0s 117ms/step - loss: 8.4617e-04 - MSE: 8.4617e-04 - val_loss: 5.0735e-04 - val_MSE: 5.0735e-04\n",
      "Epoch 44/3000\n",
      "2/2 [==============================] - 0s 111ms/step - loss: 7.9965e-04 - MSE: 7.9965e-04 - val_loss: 4.7824e-04 - val_MSE: 4.7824e-04\n",
      "Epoch 45/3000\n",
      "2/2 [==============================] - 0s 121ms/step - loss: 7.4993e-04 - MSE: 7.4993e-04 - val_loss: 4.4866e-04 - val_MSE: 4.4866e-04\n",
      "Epoch 46/3000\n",
      "2/2 [==============================] - 0s 112ms/step - loss: 7.3234e-04 - MSE: 7.3234e-04 - val_loss: 4.1937e-04 - val_MSE: 4.1937e-04\n",
      "Epoch 47/3000\n",
      "2/2 [==============================] - 0s 109ms/step - loss: 7.0082e-04 - MSE: 7.0082e-04 - val_loss: 3.9252e-04 - val_MSE: 3.9252e-04\n",
      "Epoch 48/3000\n",
      "2/2 [==============================] - 0s 107ms/step - loss: 6.4611e-04 - MSE: 6.4611e-04 - val_loss: 3.6573e-04 - val_MSE: 3.6573e-04\n",
      "Epoch 49/3000\n",
      "2/2 [==============================] - 0s 105ms/step - loss: 6.1648e-04 - MSE: 6.1648e-04 - val_loss: 3.4077e-04 - val_MSE: 3.4077e-04\n",
      "Epoch 50/3000\n",
      "2/2 [==============================] - 0s 128ms/step - loss: 5.8534e-04 - MSE: 5.8534e-04 - val_loss: 3.1441e-04 - val_MSE: 3.1441e-04\n",
      "Epoch 51/3000\n",
      "2/2 [==============================] - 0s 99ms/step - loss: 5.4377e-04 - MSE: 5.4377e-04 - val_loss: 2.9067e-04 - val_MSE: 2.9067e-04\n",
      "Epoch 52/3000\n",
      "2/2 [==============================] - 0s 105ms/step - loss: 5.1397e-04 - MSE: 5.1397e-04 - val_loss: 2.6516e-04 - val_MSE: 2.6516e-04\n",
      "Epoch 53/3000\n",
      "2/2 [==============================] - 0s 109ms/step - loss: 4.8700e-04 - MSE: 4.8700e-04 - val_loss: 2.4213e-04 - val_MSE: 2.4213e-04\n",
      "Epoch 54/3000\n",
      "2/2 [==============================] - 0s 137ms/step - loss: 4.5309e-04 - MSE: 4.5309e-04 - val_loss: 2.2020e-04 - val_MSE: 2.2020e-04\n",
      "Epoch 55/3000\n",
      "2/2 [==============================] - 0s 114ms/step - loss: 4.4614e-04 - MSE: 4.4614e-04 - val_loss: 2.0104e-04 - val_MSE: 2.0104e-04\n",
      "Epoch 56/3000\n",
      "2/2 [==============================] - 0s 103ms/step - loss: 3.9976e-04 - MSE: 3.9976e-04 - val_loss: 1.8663e-04 - val_MSE: 1.8663e-04\n",
      "Epoch 57/3000\n",
      "2/2 [==============================] - 0s 119ms/step - loss: 3.8991e-04 - MSE: 3.8991e-04 - val_loss: 1.7668e-04 - val_MSE: 1.7668e-04\n",
      "Epoch 58/3000\n",
      "2/2 [==============================] - 0s 121ms/step - loss: 3.6000e-04 - MSE: 3.6000e-04 - val_loss: 1.6636e-04 - val_MSE: 1.6636e-04\n",
      "Epoch 59/3000\n",
      "2/2 [==============================] - 0s 111ms/step - loss: 3.4188e-04 - MSE: 3.4188e-04 - val_loss: 1.5525e-04 - val_MSE: 1.5525e-04\n"
     ]
    },
    {
     "name": "stdout",
     "output_type": "stream",
     "text": [
      "Epoch 60/3000\n",
      "2/2 [==============================] - 0s 97ms/step - loss: 3.2847e-04 - MSE: 3.2847e-04 - val_loss: 1.4602e-04 - val_MSE: 1.4602e-04\n",
      "Epoch 61/3000\n",
      "2/2 [==============================] - 0s 102ms/step - loss: 3.1918e-04 - MSE: 3.1918e-04 - val_loss: 1.3952e-04 - val_MSE: 1.3952e-04\n",
      "Epoch 62/3000\n",
      "2/2 [==============================] - 0s 101ms/step - loss: 3.0961e-04 - MSE: 3.0961e-04 - val_loss: 1.3394e-04 - val_MSE: 1.3394e-04\n",
      "Epoch 63/3000\n",
      "2/2 [==============================] - 0s 129ms/step - loss: 3.0381e-04 - MSE: 3.0381e-04 - val_loss: 1.3163e-04 - val_MSE: 1.3163e-04\n",
      "Epoch 64/3000\n",
      "2/2 [==============================] - 0s 126ms/step - loss: 3.0071e-04 - MSE: 3.0071e-04 - val_loss: 1.3123e-04 - val_MSE: 1.3123e-04\n",
      "Epoch 65/3000\n",
      "2/2 [==============================] - 0s 100ms/step - loss: 2.9062e-04 - MSE: 2.9062e-04 - val_loss: 1.3060e-04 - val_MSE: 1.3060e-04\n",
      "Epoch 66/3000\n",
      "2/2 [==============================] - 0s 120ms/step - loss: 2.9759e-04 - MSE: 2.9759e-04 - val_loss: 1.2488e-04 - val_MSE: 1.2488e-04\n",
      "Epoch 67/3000\n",
      "2/2 [==============================] - 0s 104ms/step - loss: 2.8871e-04 - MSE: 2.8871e-04 - val_loss: 1.2118e-04 - val_MSE: 1.2118e-04\n",
      "Epoch 68/3000\n",
      "2/2 [==============================] - 0s 116ms/step - loss: 2.8480e-04 - MSE: 2.8480e-04 - val_loss: 1.1936e-04 - val_MSE: 1.1936e-04\n",
      "Epoch 69/3000\n",
      "2/2 [==============================] - 0s 100ms/step - loss: 2.8094e-04 - MSE: 2.8094e-04 - val_loss: 1.2088e-04 - val_MSE: 1.2088e-04\n",
      "Epoch 70/3000\n",
      "2/2 [==============================] - 0s 103ms/step - loss: 2.8040e-04 - MSE: 2.8040e-04 - val_loss: 1.2264e-04 - val_MSE: 1.2264e-04\n"
     ]
    }
   ],
   "source": [
    "X_train1, X_test1, y_train1, y_test1 = train_test_split(Input,target, test_size=0.25, random_state=42)\n",
    "X_train1, X_Val1, y_train1, y_val1 = train_test_split(X_train1, y_train1, test_size = 0.25, random_state = 42)\n",
    "\n",
    "model1.compile(loss=keras.losses.mean_squared_error, optimizer=keras.optimizers.Adam(learning_rate=1e-4), metrics=['MSE'])\n",
    "#     checkpoint_cb1 = keras.callbacks.ModelCheckpoint('Model1.h5')\n",
    "early_stopping_cb1 = keras.callbacks.EarlyStopping(patience=2, restore_best_weights=True)\n",
    "history1 = model1.fit(X_train1,y_train1,epochs=3000, validation_data=(X_Val1,y_val1),callbacks=[early_stopping_cb1,])#checkpoint_cb1,"
   ]
  },
  {
   "cell_type": "code",
   "execution_count": 54,
   "id": "a201d00f",
   "metadata": {
    "ExecuteTime": {
     "end_time": "2022-03-02T15:25:13.013974Z",
     "start_time": "2022-03-02T15:25:12.908191Z"
    }
   },
   "outputs": [
    {
     "name": "stdout",
     "output_type": "stream",
     "text": [
      "Model: \"sequential_13\"\n",
      "_________________________________________________________________\n",
      "Layer (type)                 Output Shape              Param #   \n",
      "=================================================================\n",
      "conv2d_23 (Conv2D)           (None, 200, 100, 3)       111       \n",
      "_________________________________________________________________\n",
      "flatten_13 (Flatten)         (None, 60000)             0         \n",
      "_________________________________________________________________\n",
      "dense_26 (Dense)             (None, 100)               6000100   \n",
      "_________________________________________________________________\n",
      "dropout_13 (Dropout)         (None, 100)               0         \n",
      "_________________________________________________________________\n",
      "dense_27 (Dense)             (None, 20000)             2020000   \n",
      "=================================================================\n",
      "Total params: 8,020,211\n",
      "Trainable params: 8,020,211\n",
      "Non-trainable params: 0\n",
      "_________________________________________________________________\n"
     ]
    }
   ],
   "source": [
    "model2 = keras.Sequential()\n",
    "model2.add(keras.layers.Conv2D(filters = 1, kernel_size=3,padding ='same', activation='relu', input_shape = (200,100,4)))\n",
    "model2.add(keras.layers.Flatten())\n",
    "model2.add(keras.layers.Dense(100))\n",
    "model2.add(keras.layers.Dropout(0.4))\n",
    "model2.add(keras.layers.Dense(20000))\n",
    "model2.summary()"
   ]
  },
  {
   "cell_type": "code",
   "execution_count": 55,
   "id": "f88170e2",
   "metadata": {
    "ExecuteTime": {
     "end_time": "2022-03-02T15:25:13.028910Z",
     "start_time": "2022-03-02T15:25:13.015976Z"
    }
   },
   "outputs": [],
   "source": [
    "Input=npInputDataset\n",
    "target=npYTargetDataset.reshape(-1,20000)"
   ]
  },
  {
   "cell_type": "code",
   "execution_count": 56,
   "id": "598baab8",
   "metadata": {
    "ExecuteTime": {
     "end_time": "2022-03-02T15:25:14.382913Z",
     "start_time": "2022-03-02T15:25:13.030911Z"
    }
   },
   "outputs": [
    {
     "name": "stdout",
     "output_type": "stream",
     "text": [
      "Epoch 1/60\n",
      "2/2 [==============================] - 1s 185ms/step - loss: 0.0054 - MSE: 0.0054 - val_loss: 0.0023 - val_MSE: 0.0023\n",
      "Epoch 2/60\n",
      "2/2 [==============================] - 0s 97ms/step - loss: 0.0032 - MSE: 0.0032 - val_loss: 0.0021 - val_MSE: 0.0021\n",
      "Epoch 3/60\n",
      "2/2 [==============================] - 0s 86ms/step - loss: 0.0028 - MSE: 0.0028 - val_loss: 0.0022 - val_MSE: 0.0022\n",
      "Epoch 4/60\n",
      "2/2 [==============================] - 0s 107ms/step - loss: 0.0029 - MSE: 0.0029 - val_loss: 0.0022 - val_MSE: 0.0022\n"
     ]
    }
   ],
   "source": [
    "\n",
    "\n",
    "X_train2, X_test2, y_train2, y_test2 = train_test_split(Input,target , test_size=0.25, random_state=42)\n",
    "X_train2, X_Val2, y_train2, y_val2 = train_test_split(X_train1, y_train1, test_size = 0.25, random_state = 42)\n",
    "\n",
    "model2.compile(loss=keras.losses.mean_squared_error, optimizer=keras.optimizers.Adam(learning_rate=1e-5), metrics=['MSE'])\n",
    "#     checkpoint_cb2 = keras.callbacks.ModelCheckpoint('Model2.h5')\n",
    "early_stopping_cb2 = keras.callbacks.EarlyStopping(patience=2, restore_best_weights=True)\n",
    "history2 = model2.fit(X_train2,y_train2,epochs=60, validation_data=(X_Val2,y_val2),callbacks=[early_stopping_cb2])\n"
   ]
  },
  {
   "cell_type": "code",
   "execution_count": 57,
   "id": "c733c882",
   "metadata": {
    "ExecuteTime": {
     "end_time": "2022-03-02T15:25:14.600386Z",
     "start_time": "2022-03-02T15:25:14.384913Z"
    }
   },
   "outputs": [],
   "source": [
    "\n",
    "X = model1.predict(X_test1).reshape(-1,200,100)\n",
    "Y = model2.predict(X_test2).reshape(-1,200,100)"
   ]
  },
  {
   "cell_type": "code",
   "execution_count": 60,
   "id": "e6f6ac91",
   "metadata": {
    "ExecuteTime": {
     "end_time": "2022-03-02T15:26:58.085025Z",
     "start_time": "2022-03-02T15:26:57.964132Z"
    }
   },
   "outputs": [
    {
     "data": {
      "image/png": "[encoded data removed]",
      "text/plain": [
       "<Figure size 800x800 with 1 Axes>"
      ]
     },
     "metadata": {
      "needs_background": "light"
     },
     "output_type": "display_data"
    }
   ],
   "source": [
    "fig = plt.figure(figsize=(10, 10), dpi=80)\n",
    "ax = plt.subplot()\n",
    "\n",
    "plt.scatter(X[0][75],Y[0][75], c = \"navy\",s=10, alpha=0.5)\n",
    "ax.set(xlim=(-0.10, 0.10), ylim=(-0.20, 0.05))\n",
    "ax.set_aspect('equal', 'box')\n",
    "ax.set_xticks([-0.10, 0, 0.10])\n",
    "ax.set_yticks([-0.20, 0, 0.05])\n",
    "ax.set_facecolor('white')\n",
    "\n",
    "plt.show()"
   ]
  },
  {
   "cell_type": "code",
   "execution_count": null,
   "id": "c2f04cc8",
   "metadata": {},
   "outputs": [],
   "source": []
  }
 ],
 "metadata": {
  "kernelspec": {
   "display_name": "graduation",
   "language": "python",
   "name": "graduation"
  },
  "language_info": {
   "codemirror_mode": {
    "name": "ipython",
    "version": 3
   },
   "file_extension": ".py",
   "mimetype": "text/x-python",
   "name": "python",
   "nbconvert_exporter": "python",
   "pygments_lexer": "ipython3",
   "version": "3.8.8"
  }
 },
 "nbformat": 4,
 "nbformat_minor": 5
}
